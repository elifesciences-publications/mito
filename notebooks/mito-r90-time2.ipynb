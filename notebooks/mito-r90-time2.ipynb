{
 "cells": [
  {
   "cell_type": "markdown",
   "metadata": {},
   "source": [
    "# Analysis of mitochondrial distribution following RSV1 infection\n",
    "Visual assessment suggests different mitochondrial distribution in RSV treat Cos cells. In particular, mitochondria seem to contract around the nucleus ~12hr post infection and gradually get more and more contracted until 24hr PI."
   ]
  },
  {
   "cell_type": "code",
   "execution_count": 1,
   "metadata": {
    "collapsed": false
   },
   "outputs": [],
   "source": [
    "%matplotlib inline\n",
    "import os\n",
    "import javabridge\n",
    "import bioformats\n",
    "import matplotlib as mpl\n",
    "import matplotlib.pyplot as plt\n",
    "import numpy as np\n",
    "import pandas as pd\n",
    "import pyome as ome\n",
    "import seaborn as sns\n",
    "from functools import reduce\n",
    "from itertools import chain\n",
    "from matplotlib import transforms\n",
    "from mito import mito, plot"
   ]
  },
  {
   "cell_type": "code",
   "execution_count": 2,
   "metadata": {
    "collapsed": false
   },
   "outputs": [],
   "source": [
    "# Initialise JVM\n",
    "javabridge.start_vm(class_path=bioformats.JARS, max_heap_size=\"8G\")"
   ]
  },
  {
   "cell_type": "code",
   "execution_count": 6,
   "metadata": {
    "collapsed": false
   },
   "outputs": [
    {
     "name": "stderr",
     "output_type": "stream",
     "text": [
      "/Users/keithschulze/miniconda3/envs/mito/lib/python3.6/site-packages/skimage/morphology/misc.py:122: UserWarning: Only one label was provided to `remove_small_objects`. Did you mean to use a boolean array?\n",
      "  warn(\"Only one label was provided to `remove_small_objects`. \"\n"
     ]
    }
   ],
   "source": [
    "# Experiment to quantify mitochondrial distribution under RSV1 infection\n",
    "mito_2_path = \"/Users/keithschulze/Google Drive/Projects/Jans Lab/data/For Keith - Mito Distribution with Cell Tracker\"\n",
    "output_path = os.path.join(mito_2_path, \"output\")\n",
    "\n",
    "mito_2_mock_8h = os.path.join(mito_2_path, \"Mock 8h p.i. DAPI mitotracker RSV cell tracker.lif\")\n",
    "mito_2_mock_18h = os.path.join(mito_2_path, \"Mock 18h p.i. DAPI mitotracker RSV cell tracker.lif\")\n",
    "mito_2_mock_24h = os.path.join(mito_2_path, \"Mock 24h p.i. DAPI mitotracker RSV cell tracker.lif\")\n",
    "mito_2_rsv_8h = os.path.join(mito_2_path, \"RSV MOI1 8h p.i. DAPI mitotracker RSV cell tracker.lif\")\n",
    "mito_2_rsv_18h = os.path.join(mito_2_path, \"RSV MOI1 18h p.i. DAPI mitotracker RSV cell tracker.lif\")\n",
    "\n",
    "mito_2_input = [(mito_2_mock_8h, \"Mock\", \"12h\", output_path),\n",
    "                (mito_2_mock_18h, \"Mock\", \"18h\", output_path),\n",
    "                (mito_2_mock_24h, \"Mock\", \"24h\", output_path),\n",
    "                (mito_2_rsv_8h, \"RSV1\", \"12h\", output_path),\n",
    "                (mito_2_rsv_18h, \"RSV1\", \"18h\", output_path)]\n",
    "\n",
    "min_nuc_distance = 10\n",
    "min_nuc_area = 500\n",
    "min_mito_area = 50\n",
    "rsv_threshold = 5\n",
    "\n",
    "r90 = pd.concat(map(pd.concat, (mito.process_r90(pth, inf, t, out, \n",
    "                                   dapi_index=0,\n",
    "                                   mito_index=1,\n",
    "                                   rsv_index=2,\n",
    "                                   min_nucleus_distance=min_nuc_distance,\n",
    "                                   min_nucleus_area=min_nuc_area,\n",
    "                                   min_mito_area=min_mito_area, \n",
    "                                   infection_threshold=rsv_threshold)\n",
    "                             for pth, inf, t, out in mito_2_input)), ignore_index=True)"
   ]
  },
  {
   "cell_type": "markdown",
   "metadata": {},
   "source": [
    "## Summarise and plot R90%"
   ]
  },
  {
   "cell_type": "code",
   "execution_count": 7,
   "metadata": {
    "collapsed": false
   },
   "outputs": [],
   "source": [
    "## Output number of cells analysed\n",
    "r90.groupby(['Pathogen', 'Treatment']).size().to_csv(os.path.join(output_path, \"cell_counts.csv\"))"
   ]
  },
  {
   "cell_type": "code",
   "execution_count": 8,
   "metadata": {
    "collapsed": false
   },
   "outputs": [
    {
     "data": {
      "text/plain": [
       "<matplotlib.axes._subplots.AxesSubplot at 0x13e357240>"
      ]
     },
     "execution_count": 8,
     "metadata": {},
     "output_type": "execute_result"
    },
    {
     "data": {
      "image/png": "[encoded data removed]",
      "text/plain": [
       "<matplotlib.figure.Figure at 0x13e357cf8>"
      ]
     },
     "metadata": {},
     "output_type": "display_data"
    }
   ],
   "source": [
    "# Plot distribution of mean RSV1 intensity\n",
    "sns.boxplot(x=\"Treatment\", y=\"RSV1 Intensity\", hue=\"Infected\", data=r90)"
   ]
  },
  {
   "cell_type": "code",
   "execution_count": 9,
   "metadata": {
    "collapsed": false
   },
   "outputs": [
    {
     "data": {
      "text/plain": [
       "<matplotlib.text.Text at 0x16e44c780>"
      ]
     },
     "execution_count": 9,
     "metadata": {},
     "output_type": "execute_result"
    },
    {
     "data": {
      "image/png": "[encoded data removed]",
      "text/plain": [
       "<matplotlib.figure.Figure at 0x16e1a45f8>"
      ]
     },
     "metadata": {},
     "output_type": "display_data"
    }
   ],
   "source": [
    "# Plot mean mitochondria area\n",
    "area_fig, ax1 = plt.subplots()\n",
    "sns.barplot(x=\"Treatment\", y=\"Area\", hue=\"Infected\", data=r90, ax=ax1)\n",
    "ax1.set_xlabel(\"Treatment\")\n",
    "ax1.set_ylabel(r\"Mean area ($\\mu m^2$)\")"
   ]
  },
  {
   "cell_type": "code",
   "execution_count": 10,
   "metadata": {
    "collapsed": false
   },
   "outputs": [],
   "source": [
    "# Save area plot\n",
    "area_fig.savefig(os.path.join(output_path, \"area_plt.pdf\"))"
   ]
  },
  {
   "cell_type": "code",
   "execution_count": 11,
   "metadata": {
    "collapsed": false
   },
   "outputs": [
    {
     "data": {
      "text/plain": [
       "<matplotlib.text.Text at 0x170677390>"
      ]
     },
     "execution_count": 11,
     "metadata": {},
     "output_type": "execute_result"
    },
    {
     "data": {
      "image/png": "[encoded data removed]",
      "text/plain": [
       "<matplotlib.figure.Figure at 0x17060dd68>"
      ]
     },
     "metadata": {},
     "output_type": "display_data"
    }
   ],
   "source": [
    "# Plot mean R90%\n",
    "r90_fig, ax1 = plt.subplots()\n",
    "sns.barplot(x=\"Treatment\", y=\"R90%\", hue=\"Infected\", data=r90, ax=ax1)\n",
    "ax1.set_xlabel(\"Treatment\")\n",
    "ax1.set_ylabel(\"Mean R90%\")"
   ]
  },
  {
   "cell_type": "code",
   "execution_count": 12,
   "metadata": {
    "collapsed": true
   },
   "outputs": [],
   "source": [
    "# Save R90% figure\n",
    "r90_fig.savefig(os.path.join(output_path, \"r90_plt.pdf\"))"
   ]
  },
  {
   "cell_type": "code",
   "execution_count": 13,
   "metadata": {
    "collapsed": false
   },
   "outputs": [],
   "source": [
    "# Save Area and R90% data frame\n",
    "r90.to_csv(os.path.join(output_path, \"rsv.csv\"))"
   ]
  },
  {
   "cell_type": "code",
   "execution_count": 14,
   "metadata": {
    "collapsed": true
   },
   "outputs": [],
   "source": [
    "javabridge.kill_vm()"
   ]
  },
  {
   "cell_type": "code",
   "execution_count": null,
   "metadata": {
    "collapsed": true
   },
   "outputs": [],
   "source": []
  }
 ],
 "metadata": {
  "kernelspec": {
   "display_name": "Python 3",
   "language": "python",
   "name": "python3"
  },
  "language_info": {
   "codemirror_mode": {
    "name": "ipython",
    "version": 3
   },
   "file_extension": ".py",
   "mimetype": "text/x-python",
   "name": "python",
   "nbconvert_exporter": "python",
   "pygments_lexer": "ipython3",
   "version": "3.6.0"
  }
 },
 "nbformat": 4,
 "nbformat_minor": 0
}
