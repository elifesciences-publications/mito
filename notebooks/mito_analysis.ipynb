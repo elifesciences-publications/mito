{
 "cells": [
  {
   "cell_type": "markdown",
   "metadata": {},
   "source": [
    "# Analysis of mitochondrial distribution following RSV1 infection\n",
    "Visual assessment suggests different mitochondrial distribution in RSV treat Cos cells. In particular, mitochondria seem to contract around the nucleus ~12hr post infection and gradually get more and more contracted until 24hr PI."
   ]
  },
  {
   "cell_type": "code",
   "execution_count": null,
   "metadata": {
    "collapsed": false
   },
   "outputs": [],
   "source": [
    "%matplotlib inline\n",
    "import os\n",
    "import javabridge\n",
    "import bioformats\n",
    "import matplotlib.pyplot as plt\n",
    "import pandas as pd\n",
    "import pyome as ome\n",
    "import seaborn as sns\n",
    "from mito import mito, plot"
   ]
  },
  {
   "cell_type": "code",
   "execution_count": null,
   "metadata": {
    "collapsed": false
   },
   "outputs": [],
   "source": [
    "# Initialise JVM\n",
    "javabridge.start_vm(class_path=bioformats.JARS, max_heap_size=\"8G\")"
   ]
  },
  {
   "cell_type": "code",
   "execution_count": null,
   "metadata": {
    "collapsed": false
   },
   "outputs": [],
   "source": [
    "# Experiment to quantify mitochondrial distribution under RSV1 infection\n",
    "mito_1_path = \"/Users/skeith/Dropbox/CONFOCAL IMAGES RSV ON A549 CELLS\"\n",
    "output_path = os.path.join(mito_1_path, \"output_v4\")\n",
    "\n",
    "mito_1_mock_12h = os.path.join(mito_1_path, \"12h mock MitoTrackerRed+RSV+DAPI\", \"12h mock.lif\")\n",
    "mito_1_mock_18h = os.path.join(mito_1_path, \"18h mock MitoTrackerRed+RSV+DAPI\", \"18h mock.lif\")\n",
    "mito_1_mock_24h = os.path.join(mito_1_path, \"24h mock MitoTrackerRed+RSV+DAPI\", \"24h mock.lif\")\n",
    "mito_1_rsv_12h = os.path.join(mito_1_path, \"12h RSV1 MitoTrackerRed+RSVGreen+DAPI\", \"12h RSV1.lif\")\n",
    "mito_1_rsv_18h = os.path.join(mito_1_path, \"18h RSV1 MitoTrackerRed+RSVGreen+DAPI\", \"18h RSV1.lif\")\n",
    "mito_1_rsv_24h = os.path.join(mito_1_path, \"24h RSV1 MitoTrackerRed+RSVGreen+DAPI\", \"24h RSV1.lif\")\n",
    "\n",
    "mito_1_input = [(mito_1_mock_12h, \"Mock\", \"12h\", output_path),\n",
    "                (mito_1_mock_18h, \"Mock\", \"18h\", output_path),\n",
    "                (mito_1_mock_24h, \"Mock\", \"24h\", output_path),\n",
    "                (mito_1_rsv_12h, \"RSV1\", \"12h\", output_path),\n",
    "                (mito_1_rsv_18h, \"RSV1\", \"18h\", output_path),\n",
    "                (mito_1_rsv_24h, \"RSV1\", \"24h\", output_path)]\n",
    "\n",
    "min_nuc_distance = 10\n",
    "min_nuc_area = 500\n",
    "min_mito_area = 50\n",
    "rsv_threshold = 10\n",
    "\n",
    "r90 = pd.concat(map(pd.concat, (mito.process_r90(pth, inf, t, out, \n",
    "                                   dapi_index=0,\n",
    "                                   mito_index=2,\n",
    "                                   rsv_index=1,\n",
    "                                   min_nucleus_distance=min_nuc_distance,\n",
    "                                   min_nucleus_area=min_nuc_area,\n",
    "                                   min_mito_area=min_mito_area, \n",
    "                                   infection_threshold=rsv_threshold)\n",
    "                             for pth, inf, t, out in mito_1_input)), ignore_index=True)"
   ]
  },
  {
   "cell_type": "code",
   "execution_count": null,
   "metadata": {
    "collapsed": false
   },
   "outputs": [],
   "source": [
    "# Experiment to quantify mitochondrial distribution under RSV1 infection\n",
    "mito_2_path = \"/Users/skeith/Dropbox/For Keith - Mito Distribution with Cell Tracker\"\n",
    "output_path = os.path.join(mito_2_path, \"output\")\n",
    "\n",
    "mito_2_mock_8h = os.path.join(mito_2_path, \"Mock 8h p.i. DAPI mitotracker RSV cell tracker.lif\")\n",
    "mito_2_mock_18h = os.path.join(mito_2_path, \"Mock 18h p.i. DAPI mitotracker RSV cell tracker.lif\")\n",
    "mito_2_mock_24h = os.path.join(mito_2_path, \"Mock 24h p.i. DAPI mitotracker RSV cell tracker.lif\")\n",
    "mito_2_rsv_8h = os.path.join(mito_2_path, \"RSV MOI1 8h p.i. DAPI mitotracker RSV cell tracker.lif\")\n",
    "mito_2_rsv_18h = os.path.join(mito_2_path, \"RSV MOI1 18h p.i. DAPI mitotracker RSV cell tracker.lif\")\n",
    "\n",
    "mito_2_input = [(mito_2_mock_8h, \"Mock\", \"12h\", mito_2_output_path),\n",
    "                (mito_2_mock_18h, \"Mock\", \"18h\", mito_2_output_path),\n",
    "                (mito_2_mock_24h, \"Mock\", \"24h\", mito_2_output_path),\n",
    "                (mito_2_rsv_8h, \"RSV1\", \"12h\", mito_2_output_path),\n",
    "                (mito_2_rsv_18h, \"RSV1\", \"18h\", mito_2_output_path)]\n",
    "\n",
    "min_nuc_distance = 10\n",
    "min_nuc_area = 500\n",
    "min_mito_area = 50\n",
    "rsv_threshold = 5\n",
    "\n",
    "r90 = pd.concat(map(pd.concat, (process_r90(pth, inf, t, out, \n",
    "                                   dapi_index=0,\n",
    "                                   mito_index=1,\n",
    "                                   rsv_index=2,\n",
    "                                   min_nucleus_distance=min_nuc_distance,\n",
    "                                   min_nucleus_area=min_nuc_area,\n",
    "                                   min_mito_area=min_mito_area, \n",
    "                                   infection_threshold=rsv_threshold)\n",
    "                             for pth, inf, t, out in mito_2_input)), ignore_index=True)"
   ]
  },
  {
   "cell_type": "code",
   "execution_count": null,
   "metadata": {
    "collapsed": false
   },
   "outputs": [],
   "source": [
    "# Experiment to quantify mitochondrial distribution under RSV1 infection\n",
    "mito_3_path = \"/Users/skeith/Dropbox/For Keith - RSV infection (with Cell Tracker)\"\n",
    "output_path = os.path.join(mito_3_path, \"output\")\n",
    "\n",
    "mito_3_mock_8h = os.path.join(mito_3_path, \"UT 8h.lif\")\n",
    "mito_3_mock_18h = os.path.join(mito_3_path, \"UT 18h.lif\")\n",
    "mito_3_rsv_8h = os.path.join(mito_3_path, \"RSV MOI1 8h.lif\")\n",
    "mito_3_rsv_18h = os.path.join(mito_3_path, \"RSV MOI1 18h.lif\")\n",
    "mito_3_rsv_24h = os.path.join(mito_3_path, \"RSV MOI1 24h.lif\")\n",
    "\n",
    "mito_3_input = [(mito_3_mock_8h, \"Mock\", \"8h\", output_path),\n",
    "                (mito_3_mock_18h, \"Mock\", \"18h\", output_path),\n",
    "                (mito_3_rsv_8h, \"RSV1\", \"8h\", output_path),\n",
    "                (mito_3_rsv_18h, \"RSV1\", \"18h\", output_path),\n",
    "                (mito_3_rsv_24h, \"RSV1\", \"24h\", output_path)]\n",
    "\n",
    "min_nuc_distance = 10\n",
    "min_nuc_area = 500\n",
    "min_mito_area = 200\n",
    "rsv_threshold = 7\n",
    "\n",
    "r90 = pd.concat(map(pd.concat, (process_r90(pth, inf, t, out, \n",
    "                                   dapi_index=0,\n",
    "                                   mito_index=1,\n",
    "                                   rsv_index=2,\n",
    "                                   min_nucleus_distance=min_nuc_distance,\n",
    "                                   min_nucleus_area=min_nuc_area,\n",
    "                                   min_mito_area=min_mito_area, \n",
    "                                   infection_threshold=rsv_threshold)\n",
    "                             for pth, inf, t, out in mito_3_input)), ignore_index=True)"
   ]
  },
  {
   "cell_type": "code",
   "execution_count": null,
   "metadata": {
    "collapsed": false
   },
   "outputs": [],
   "source": [
    "# Experiment to see whether the mitochondrial phenotype 18h post RSV1 infection can be rescued by Nocodazale or EHNA treatment\n",
    "# Markers: DAPI, MitoTracker, RSV1-GFP, Gamma-tublin\n",
    "mito_18_rescue_path = \"/Users/skeith/Dropbox/For Keith- Mitochondrial organization relative to gamma-tubulin/18h p.i. RSV samples (inc. rescued mito organization)\"\n",
    "output_path = os.path.join(mito_18_rescue_path, \"output_test\")\n",
    "\n",
    "dmso_mock = os.path.join(mito_18_rescue_path, \"Vehicle or DMSO on mock.lif\")\n",
    "dmso_rsv = os.path.join(mito_18_rescue_path, \"Vehicle or DMSO on RSV infected .lif\")\n",
    "nocodazale_rsv = os.path.join(mito_18_rescue_path, \"Nocodazale on RSV infected.lif\")\n",
    "ehna_rsv = os.path.join(mito_18_rescue_path, \"EHNA on RSV infected .lif\")\n",
    "\n",
    "mito_18_rescue_input = [(dmso_mock, \"Mock\", \"DMSO\", mito_18_output_path),\n",
    "                        (dmso_rsv, \"RSV1\", \"DMSO\", mito_18_output_path),\n",
    "                        (nocodazale_rsv, \"RSV1\", \"NOCODAZALE\", mito_18_output_path),\n",
    "                        (ehna_rsv, \"RSV1\", \"EHNA\", mito_18_output_path)]\n",
    "\n",
    "min_nuc_distance = 10\n",
    "min_nuc_area = 500\n",
    "min_mito_area = 10\n",
    "rsv_threshold = 10\n",
    "\n",
    "r90, angs = map(pd.concat, \n",
    "                zip(*reduce(chain, \n",
    "                            (process_file(pth, inf, t, out, \n",
    "                                          min_nucleus_distance=min_nuc_distance,\n",
    "                                          min_nucleus_area=min_nuc_area,\n",
    "                                          min_mito_area=min_mito_area, \n",
    "                                          infection_threshold=rsv_threshold)\n",
    "                             for pth, inf, t, out in mito_18_rescue_input))))"
   ]
  },
  {
   "cell_type": "code",
   "execution_count": null,
   "metadata": {
    "collapsed": false
   },
   "outputs": [],
   "source": [
    "# Experiment to see examine mitochondrial phenotype at 8h, 12h, 18h and 24h post RSV1 infection\n",
    "# Markers: DAPI, MitoTracker, RSV1-GFP, Gamma-tublin\n",
    "mito_time_path = \"/Users/skeith/Dropbox/For Keith- Mitochondrial organization relative to gamma-tubulin\"\n",
    "output_path = os.path.join(mito_time_path, \"output\")\n",
    "\n",
    "mito_mock_8 = os.path.join(mito_time_path, \"Mock 8h mitotrackerRed RSV488 γ-tubulin DAPI.lif\")\n",
    "mito_mock_12 = os.path.join(mito_time_path, \"Mock 12h mitotrackerRed RSV488 γ-tubulin DAPI.lif\")\n",
    "mito_mock_18 = os.path.join(mito_time_path, \"Mock 18h mitotrackerRed RSV488 γ-tubulin DAPI.lif\")\n",
    "mito_mock_24 = os.path.join(mito_time_path, \"Mock 24h mitotrackerRed RSV488 γ-tubulin DAPI.lif\")\n",
    "mito_rsv_8 = os.path.join(mito_time_path, \"RSV MOI 1 8h mitotrackerRed RSV488 γ-tubulin DAPI.lif\")\n",
    "mito_rsv_12 = os.path.join(mito_time_path, \"RSV MOI 1 12h mitotrackerRed RSV488 γ-tubulin DAPI.lif\")\n",
    "mito_rsv_18 = os.path.join(mito_time_path, \"RSV MOI 1 18h mitotrackerRed RSV488 γ-tubulin DAPI.lif\")\n",
    "mito_rsv_24 = os.path.join(mito_time_path, \"RSV MOI 1 24h mitotrackerRed RSV488 γ-tubulin DAPI.lif\")\n",
    "\n",
    "mito_time_input = [(mito_mock_8, \"Mock\", \"8h\", mito_time_output_path),\n",
    "                   (mito_mock_12, \"Mock\", \"12h\", mito_time_output_path),\n",
    "                   (mito_mock_18, \"Mock\", \"18h\", mito_time_output_path),\n",
    "                   (mito_mock_24, \"Mock\", \"24h\", mito_time_output_path),\n",
    "                   (mito_rsv_8, \"RSV1\", \"8h\", mito_time_output_path),\n",
    "                   (mito_rsv_12, \"RSV1\", \"12h\", mito_time_output_path),\n",
    "                   (mito_rsv_18, \"RSV1\", \"18h\", mito_time_output_path),\n",
    "                   (mito_rsv_24, \"RSV1\", \"24h\", mito_time_output_path)]\n",
    "\n",
    "# Input Parameters\n",
    "min_nuc_distance = 10\n",
    "min_nuc_area = 500\n",
    "min_mito_area = 10\n",
    "rsv_threshold = 5\n",
    "\n",
    "r90, angs = map(pd.concat, \n",
    "                zip(*reduce(chain, \n",
    "                            (process_file(pth, inf, t, out, \n",
    "                                          min_nucleus_distance=min_nuc_distance,\n",
    "                                          min_nucleus_area=min_nuc_area,\n",
    "                                          min_mito_area=min_mito_area, \n",
    "                                          infection_threshold=rsv_threshold)\n",
    "                             for pth, inf, t, out in mito_time_input))))"
   ]
  },
  {
   "cell_type": "markdown",
   "metadata": {},
   "source": [
    "## Summarise and plot R90%"
   ]
  },
  {
   "cell_type": "code",
   "execution_count": null,
   "metadata": {
    "collapsed": false
   },
   "outputs": [],
   "source": [
    "## Output number of cells analysed\n",
    "r90.groupby(['Pathogen', 'Treatment']).size().to_csv(os.path.join(output_path, \"cell_counts.csv\"))"
   ]
  },
  {
   "cell_type": "code",
   "execution_count": null,
   "metadata": {
    "collapsed": false
   },
   "outputs": [],
   "source": [
    "# Plot distribution of mean RSV1 intensity\n",
    "sns.boxplot(x=\"Treatment\", y=\"RSV1 Intensity\", hue=\"Infected\", data=r90)"
   ]
  },
  {
   "cell_type": "code",
   "execution_count": null,
   "metadata": {
    "collapsed": false
   },
   "outputs": [],
   "source": [
    "# Plot mean mitochondria area\n",
    "area_fig, ax1 = plt.subplots()\n",
    "sns.barplot(x=\"Treatment\", y=\"Area\", hue=\"Infected\", data=r90, ax=ax1)\n",
    "ax1.set_xlabel(\"Treatment\")\n",
    "ax1.set_ylabel(r\"Mean area ($\\mu m^2$)\")"
   ]
  },
  {
   "cell_type": "code",
   "execution_count": null,
   "metadata": {
    "collapsed": false
   },
   "outputs": [],
   "source": [
    "# Save area plot\n",
    "area_fig.savefig(os.path.join(output_path, \"area_plt.pdf\"))"
   ]
  },
  {
   "cell_type": "code",
   "execution_count": null,
   "metadata": {
    "collapsed": false
   },
   "outputs": [],
   "source": [
    "# Plot mean R90%\n",
    "r90_fig, ax1 = plt.subplots()\n",
    "sns.barplot(x=\"Treatment\", y=\"R90%\", hue=\"Infected\", data=r90, ax=ax1)\n",
    "ax1.set_xlabel(\"Treatment\")\n",
    "ax1.set_ylabel(\"Mean R90%\")"
   ]
  },
  {
   "cell_type": "code",
   "execution_count": null,
   "metadata": {
    "collapsed": true
   },
   "outputs": [],
   "source": [
    "# Save R90% figure\n",
    "r90_fig.savefig(os.path.join(output_path, \"r90_plt.pdf\"))"
   ]
  },
  {
   "cell_type": "code",
   "execution_count": null,
   "metadata": {
    "collapsed": false
   },
   "outputs": [],
   "source": [
    "# Save Area and R90% data frame\n",
    "r90.to_csv(os.path.join(output_path, \"rsv.csv\"))"
   ]
  },
  {
   "cell_type": "markdown",
   "metadata": {},
   "source": [
    "## Summarise angular distribution of mitochondria relative to the MTOC\n",
    "In this case a ɣ-tubulin marker was introduced to mark the MTOC. The is therefore to determine whether contraction of the mitochondria correlates spatially with the MTOC region."
   ]
  },
  {
   "cell_type": "code",
   "execution_count": null,
   "metadata": {
    "collapsed": false
   },
   "outputs": [],
   "source": [
    "# Calculate angles in degrees and calculate proportion of mitochondria within 90° of MTOC\n",
    "angs[\"Angle\"] = np.rad2deg(angs[\"Mitochondria angle\"])\n",
    "freq90 = angs.groupby(['Infected', 'Treatment', 'Name', 'Cell ID'])['Angle'].agg(frequency90).reset_index()"
   ]
  },
  {
   "cell_type": "code",
   "execution_count": null,
   "metadata": {
    "collapsed": false
   },
   "outputs": [],
   "source": [
    "# Plot proportion of mitochondria within 90° of MTOC\n",
    "freq90_plt, freq90_ax = plt.subplots()\n",
    "sns.barplot(x = 'Treatment', y = 'Angle', hue = 'Infected', hue_order = [False, True], order = ['8h', '12h', '18h', '24h'], data = freq90, ci=68)\n",
    "\n",
    "vals = freq90_ax.get_yticks()\n",
    "freq90_ax.set_yticklabels(['{:3.0f}%'.format(x*100) for x in vals])\n",
    "freq90_ax.set_xlabel(\"Time (hr)\")\n",
    "freq90_ax.set_ylabel(\"Proportion (%)\")"
   ]
  },
  {
   "cell_type": "code",
   "execution_count": null,
   "metadata": {
    "collapsed": false
   },
   "outputs": [],
   "source": [
    "# Save plot and dataframe\n",
    "freq90_plt.savefig(os.path.join(output_path, \"freq90deg_plt.pdf\"))\n",
    "freq90.to_csv(os.path.join(output_path, \"freq90deg.csv\"))"
   ]
  },
  {
   "cell_type": "code",
   "execution_count": null,
   "metadata": {
    "collapsed": false
   },
   "outputs": [],
   "source": [
    "# Plot angular distribution of mitochondria relative to MTOC on histogram. MTOC at 0°.\n",
    "g = sns.FacetGrid(angs, row=\"Infected\", col=\"Treatment\",\n",
    "#                   subplot_kws=dict(projection='polar'), \n",
    "                  size=4.5, sharex=False, sharey=True, despine=False)\n",
    "\n",
    "# Draw a scatterplot onto each axes in the grid\n",
    "# g = (g.map(plt.hist, \"Mitochondria angle\", bins = 50, normed=True)\n",
    "# #       .set(theta_direction=-1, theta_zero_location=\"N\", ylim=(0,0.7))\n",
    "#       .fig.subplots_adjust(hspace=.3))\n",
    "g.map(vertical_line, \"Angle\", color=\"red\")\n",
    "\n",
    "(g.map(sns.distplot, \"Angle\")\n",
    "#   .set(theta_direction=-1, theta_zero_location=\"N\", ylim=(0,0.012))\n",
    "  .set(xlim=(-180, 180), xticks=[-180, -135, -90, -45, 0, 45, 90, 135, 180])\n",
    "  .set_xlabels(r'Angle ($^\\circ$)')\n",
    "  .fig.subplots_adjust(hspace=.3))"
   ]
  },
  {
   "cell_type": "code",
   "execution_count": null,
   "metadata": {
    "collapsed": false
   },
   "outputs": [],
   "source": [
    "# Plot angular distribution of mitochondria relative to MTOC on polar histogram. MTOC at 0°.\n",
    "g = sns.FacetGrid(angs, row=\"Infected\", col=\"Treatment\",\n",
    "                  subplot_kws=dict(projection='polar'), \n",
    "                  size=3.5, sharex=False, sharey=False, despine=False)\n",
    "\n",
    "# Draw a scatterplot onto each axes in the grid\n",
    "# g = (g.map(plt.hist, \"Mitochondria angle\", bins = 50, normed=True)\n",
    "# #       .set(theta_direction=-1, theta_zero_location=\"N\", ylim=(0,0.7))\n",
    "#       .fig.subplots_adjust(hspace=.3))\n",
    "g.map(vertical_line, \"Mitochondria angle\", color=\"red\")\n",
    "\n",
    "(g.map(polar_hist, \"Mitochondria angle\", bins=60, density=True)\n",
    "  .set(theta_direction=-1, theta_zero_location=\"N\", ylim=(0, 0.012))\n",
    "  .set_xlabels(r'Angle')\n",
    "  .fig.subplots_adjust(hspace=.3))"
   ]
  },
  {
   "cell_type": "code",
   "execution_count": null,
   "metadata": {
    "collapsed": false
   },
   "outputs": [],
   "source": [
    "# Save polar histogram\n",
    "g.savefig(os.path.join(output_path, \"mito_angle_polar.pdf\"))"
   ]
  },
  {
   "cell_type": "code",
   "execution_count": null,
   "metadata": {
    "collapsed": true
   },
   "outputs": [],
   "source": [
    "# Save angle data\n",
    "angs.to_csv(os.path.join(output_path, \"angles.csv\"))"
   ]
  },
  {
   "cell_type": "markdown",
   "metadata": {},
   "source": [
    "## Worked example of the process\n",
    "Most of this is implement in the `mito` package and there are processing functions that wraps this."
   ]
  },
  {
   "cell_type": "code",
   "execution_count": null,
   "metadata": {
    "collapsed": false
   },
   "outputs": [],
   "source": [
    "from scipy import ndimage\n",
    "from skimage.exposure import rescale_intensity\n",
    "from skimage.io import imshow\n",
    "from skimage.morphology import watershed\n",
    "from skimage.segmentation import clear_border\n",
    "\n",
    "# Test data\n",
    "img_path = \"/Users/skeith/Dropbox/For Keith- Mitochondrial organization relative to gamma-tubulin/18h p.i. RSV samples (inc. rescued mito organization)/Vehicle or DMSO on mock.lif\"\n",
    "series = 0"
   ]
  },
  {
   "cell_type": "code",
   "execution_count": null,
   "metadata": {
    "collapsed": false
   },
   "outputs": [],
   "source": [
    "# Get metadata\n",
    "meta = ome.read(img_path)"
   ]
  },
  {
   "cell_type": "code",
   "execution_count": null,
   "metadata": {
    "collapsed": false
   },
   "outputs": [],
   "source": [
    "rdr = mito.read_series(img_path, meta)"
   ]
  },
  {
   "cell_type": "code",
   "execution_count": null,
   "metadata": {
    "collapsed": false
   },
   "outputs": [],
   "source": [
    "i, m = next(rdr)"
   ]
  },
  {
   "cell_type": "code",
   "execution_count": null,
   "metadata": {
    "collapsed": false
   },
   "outputs": [],
   "source": [
    "hues = [0.6, 0, 0.4, 1]\n",
    "#i = [colourise(img, h) for h, img in zip(hues, i)]\n",
    "imshow(plot.rgbstack(i, hues, rescale=True))"
   ]
  },
  {
   "cell_type": "code",
   "execution_count": null,
   "metadata": {
    "collapsed": false
   },
   "outputs": [],
   "source": [
    "# Load DAPI Channel\n",
    "dapi = bioformats.load_image(img_path, series=series, c=0, rescale=False)\n",
    "imshow(dapi)"
   ]
  },
  {
   "cell_type": "code",
   "execution_count": null,
   "metadata": {
    "collapsed": false
   },
   "outputs": [],
   "source": [
    "# Segment Nuclei\n",
    "dapi_bin = mito.segment_dapi(dapi)\n",
    "imshow(dapi_bin)"
   ]
  },
  {
   "cell_type": "code",
   "execution_count": null,
   "metadata": {
    "collapsed": false
   },
   "outputs": [],
   "source": [
    "# Split and label nuclei\n",
    "dapi_labels, dapi_markers, dapi_dm = mito.split_nuclei(dapi, dapi_bin, min_distance=25, min_size=1000)\n",
    "imshow(dapi_labels)"
   ]
  },
  {
   "cell_type": "code",
   "execution_count": null,
   "metadata": {
    "collapsed": false
   },
   "outputs": [],
   "source": [
    "# Load mitochondria\n",
    "mt = bioformats.load_image(img_path, series=series, c=1, rescale=False)"
   ]
  },
  {
   "cell_type": "code",
   "execution_count": null,
   "metadata": {
    "collapsed": true
   },
   "outputs": [],
   "source": [
    "# Segment mitochondria\n",
    "mt_bin = mito.segment_mito(mt)\n",
    "imshow(mt_bin)"
   ]
  },
  {
   "cell_type": "code",
   "execution_count": null,
   "metadata": {
    "collapsed": false
   },
   "outputs": [],
   "source": [
    "# Dapi + Mito combo\n",
    "mt_dapi_bin = ndimage.binary_fill_holes(mt_bin+dapi_bin)\n",
    "imshow(mt_dapi_bin)"
   ]
  },
  {
   "cell_type": "code",
   "execution_count": null,
   "metadata": {
    "collapsed": false
   },
   "outputs": [],
   "source": [
    "# Filter and label mitochondria\n",
    "mt_dapi_labels = clear_border(watershed(-dapi_dm, dapi_markers, mask=mt_dapi_bin))\n",
    "mt_labels = mt_dapi_labels * mt_bin\n",
    "imshow(mt_labels)"
   ]
  },
  {
   "cell_type": "code",
   "execution_count": null,
   "metadata": {
    "collapsed": false
   },
   "outputs": [],
   "source": [
    "# Filter nuclei\n",
    "dapi_filt = mt_dapi_labels * (dapi_labels > 0)\n",
    "imshow(dapi_filt)"
   ]
  },
  {
   "cell_type": "code",
   "execution_count": null,
   "metadata": {
    "collapsed": true
   },
   "outputs": [],
   "source": [
    "# Load RSV1-GFP\n",
    "rsv = bioformats.load_image(img_path, series=series, c=2, rescale=False)\n",
    "imshow(rescale_intensity(rsv, in_range=(rsv.min(), rsv.max()-200), out_range=(0, 255)))"
   ]
  },
  {
   "cell_type": "code",
   "execution_count": null,
   "metadata": {
    "collapsed": true
   },
   "outputs": [],
   "source": [
    "# Load gamma-tubulin\n",
    "gt = bioformats.load_image(img_path, series=series, c=3, rescale=False)\n",
    "imshow(gt)"
   ]
  }
 ],
 "metadata": {
  "kernelspec": {
   "display_name": "Python 3",
   "language": "python",
   "name": "python3"
  },
  "language_info": {
   "codemirror_mode": {
    "name": "ipython",
    "version": 3
   },
   "file_extension": ".py",
   "mimetype": "text/x-python",
   "name": "python",
   "nbconvert_exporter": "python",
   "pygments_lexer": "ipython3",
   "version": "3.6.0"
  }
 },
 "nbformat": 4,
 "nbformat_minor": 0
}
